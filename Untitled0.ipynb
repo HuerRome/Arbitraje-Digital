{
  "nbformat": 4,
  "nbformat_minor": 0,
  "metadata": {
    "colab": {
      "provenance": [],
      "authorship_tag": "ABX9TyMOfeuLo2SzA4Fuzri01yX6",
      "include_colab_link": true
    },
    "kernelspec": {
      "name": "python3",
      "display_name": "Python 3"
    },
    "language_info": {
      "name": "python"
    }
  },
  "cells": [
    {
      "cell_type": "markdown",
      "metadata": {
        "id": "view-in-github",
        "colab_type": "text"
      },
      "source": [
        "<a href=\"https://colab.research.google.com/github/HuerRome/Arbitraje-Digital/blob/main/Untitled0.ipynb\" target=\"_parent\"><img src=\"https://colab.research.google.com/assets/colab-badge.svg\" alt=\"Open In Colab\"/></a>"
      ]
    },
    {
      "cell_type": "code",
      "execution_count": 44,
      "metadata": {
        "colab": {
          "base_uri": "https://localhost:8080/",
          "height": 211
        },
        "id": "wyPFqfs2L0X0",
        "outputId": "2d433bf1-afcb-4639-a579-0f1aa859680b"
      },
      "outputs": [
        {
          "output_type": "error",
          "ename": "AttributeError",
          "evalue": "'function' object has no attribute 'append'",
          "traceback": [
            "\u001b[0;31m---------------------------------------------------------------------------\u001b[0m",
            "\u001b[0;31mAttributeError\u001b[0m                            Traceback (most recent call last)",
            "\u001b[0;32m<ipython-input-44-2883107f1dc9>\u001b[0m in \u001b[0;36m<cell line: 0>\u001b[0;34m()\u001b[0m\n\u001b[1;32m     16\u001b[0m \u001b[0;32mfor\u001b[0m \u001b[0mi\u001b[0m \u001b[0;32min\u001b[0m \u001b[0mrange\u001b[0m\u001b[0;34m(\u001b[0m\u001b[0;36m100\u001b[0m\u001b[0;34m,\u001b[0m\u001b[0;36m201\u001b[0m\u001b[0;34m)\u001b[0m\u001b[0;34m:\u001b[0m\u001b[0;34m\u001b[0m\u001b[0;34m\u001b[0m\u001b[0m\n\u001b[1;32m     17\u001b[0m   \u001b[0;32mif\u001b[0m \u001b[0mi\u001b[0m\u001b[0;34m%\u001b[0m\u001b[0;36m9\u001b[0m \u001b[0;34m==\u001b[0m \u001b[0;36m0\u001b[0m\u001b[0;34m:\u001b[0m\u001b[0;34m\u001b[0m\u001b[0;34m\u001b[0m\u001b[0m\n\u001b[0;32m---> 18\u001b[0;31m     \u001b[0mlista\u001b[0m\u001b[0;34m.\u001b[0m\u001b[0mappend\u001b[0m\u001b[0;34m(\u001b[0m\u001b[0mi\u001b[0m\u001b[0;34m)\u001b[0m\u001b[0;34m\u001b[0m\u001b[0;34m\u001b[0m\u001b[0m\n\u001b[0m\u001b[1;32m     19\u001b[0m \u001b[0;34m\u001b[0m\u001b[0m\n\u001b[1;32m     20\u001b[0m \u001b[0;31m#print(all(n%3==0 for n in lista))\u001b[0m\u001b[0;34m\u001b[0m\u001b[0;34m\u001b[0m\u001b[0m\n",
            "\u001b[0;31mAttributeError\u001b[0m: 'function' object has no attribute 'append'"
          ]
        }
      ],
      "source": [
        "from inspect import Traceback\n",
        "from typing import Tuple\n",
        "from re import T\n",
        "from os import truncate\n",
        "#Ejercicio a): Todos los múltiplos de 9 entre 100 y 200 son también múltiplos de 3.\n",
        "\n",
        "#Ejercicio hecho por el profe\n",
        "def es_multiplo_de_9(n):\n",
        "  return(n%9 == 0)\n",
        "\n",
        "universo = [n for n in range(100,201) if es_multiplo_de_9(n)]\n",
        "\n",
        "#print(all(n%3==0 for n in universo))\n",
        "\n",
        "#Ejercicio hecho por mi\n",
        "for i in range(100,201):\n",
        "  if i%9 == 0:\n",
        "    lista.append(i)\n",
        "\n",
        "#print(all(n%3==0 for n in lista))\n",
        "\n",
        "#Ejercicio b): Existen cubos perfectos entre 1800 y 2000.\n",
        "def cubo(n):\n",
        "  return n**1/3\n",
        "\n",
        "def existe_cubo_perfecto():\n",
        "  contador=0\n",
        "  valor_verdad=False\n",
        "  while valor_verdad==False:\n",
        "    for i in range(1800,2001):\n",
        "      if cubo(contador) == i:\n",
        "        valor_verdad=True\n",
        "        return valor_verdad\n",
        "    contador+=1\n",
        "    return valor_verdad\n",
        "#print(existe_cubo_perfecto())\n",
        "\n",
        "#Ejercicio c):Existen números primos entre 700 y 750.\n",
        "def es_primo(n):\n",
        "  valor=True\n",
        "  for i in range(2,n):\n",
        "    if n%i == 0:\n",
        "      valor=False\n",
        "  return valor\n",
        "\n",
        "#print(any(es_primo(n) for n in range(700, 751)))\n",
        "\n",
        "#Ejercicio d): Existen números perfectos menores que 10000.\n",
        "def es_perfecto(n):\n",
        "  divisores = [x for x in range(1,n) if n%x == 0]\n",
        "  return (sum(divisores)==n)\n",
        "\n",
        "#print(es_perfecto())\n",
        "\n",
        "#Ejercicio e): Todos los cuadrados perfectos menores que 1000 son impares o múltiplos de 4.\n",
        "def cuadrado(n):\n",
        "  return n**1/2\n",
        "\n",
        "def lista_de_cuadrados():\n",
        "  cuadrados=[]\n",
        "  for i in range(1,1000):\n",
        "    cuadrados = [x for x in range(1,i) if x**1/2 == i]\n",
        "  return cuadrados\n",
        "print(lista_de_cuadrados())\n",
        "\n",
        "\n",
        "\n",
        "\n",
        "def cuadrados_perfectos_menores_1000():\n",
        "    cuadrados = []\n",
        "    x = 1\n",
        "    while x**2 < 1000:\n",
        "        cuadrados.append(x**2)\n",
        "        x += 1\n",
        "    return cuadrados\n",
        "\n",
        "# Probamos la función\n",
        "lista = cuadrados_perfectos_menores_1000()\n",
        "print(lista)\n",
        "\n",
        "\n",
        "\n",
        "\n",
        "\n",
        "\n",
        "\n",
        "\n",
        "\n",
        "\n"
      ]
    },
    {
      "cell_type": "markdown",
      "source": [
        "ejercicio e)"
      ],
      "metadata": {
        "id": "vQdzdeonjDR6"
      }
    },
    {
      "cell_type": "code",
      "source": [
        "def es_impar(n):\n",
        "    return n % 2 != 0\n",
        "\n",
        "def es_multiplo_de_4(n):\n",
        "    return n % 4 == 0\n",
        "\n",
        "def verificar_cuadrados_perfectos():\n",
        "    for x in range(1, 32):\n",
        "        cuadrado = x ** 2\n",
        "        if not (es_impar(cuadrado) or es_multiplo_de_4(cuadrado)):\n",
        "            print(f\"Fallo con x = {x}, x^2 = {cuadrado}\")\n",
        "            return False\n",
        "    return True\n",
        "\n",
        "resultado = verificar_cuadrados_perfectos()\n",
        "print(\"¿Todos los cuadrados perfectos menores que 1000 son impares o múltiplos de 4?\")\n",
        "print(\"Resultado:\", resultado)\n"
      ],
      "metadata": {
        "colab": {
          "base_uri": "https://localhost:8080/"
        },
        "id": "wGCYdbnxjBGw",
        "outputId": "9164ef3a-6a6b-45d8-e2c3-4b7bcd8aded7"
      },
      "execution_count": 45,
      "outputs": [
        {
          "output_type": "stream",
          "name": "stdout",
          "text": [
            "[]\n"
          ]
        }
      ]
    },
    {
      "cell_type": "markdown",
      "source": [
        "#Trabajo Practico: Logica predicados\n",
        "\n",
        "\n",
        "\n",
        "\n",
        "\n",
        "\n",
        "\n",
        "\n",
        "\n",
        "\n"
      ],
      "metadata": {
        "id": "G-oQNMKvL6Jr"
      }
    },
    {
      "cell_type": "code",
      "source": [
        "\n",
        "\n",
        "\n",
        "\n",
        "\n",
        "\n",
        "\n",
        "\n",
        "\n",
        "\n",
        "\n",
        "\n",
        "\n",
        "\n",
        "\n"
      ],
      "metadata": {
        "id": "YOlsCr5vMBpc"
      },
      "execution_count": null,
      "outputs": []
    },
    {
      "cell_type": "code",
      "source": [],
      "metadata": {
        "id": "p2ARUkJSMSBV"
      },
      "execution_count": null,
      "outputs": []
    },
    {
      "cell_type": "markdown",
      "source": [],
      "metadata": {
        "id": "Vtqr9G8HL5H1"
      }
    }
  ]
}